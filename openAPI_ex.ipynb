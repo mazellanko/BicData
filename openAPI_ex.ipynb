{
 "cells": [
  {
   "cell_type": "markdown",
   "metadata": {},
   "source": [
    "## 5. 공공데이터 OPEN API "
   ]
  },
  {
   "cell_type": "markdown",
   "metadata": {},
   "source": [
    "### 공공데이터 "
   ]
  },
  {
   "cell_type": "code",
   "execution_count": 6,
   "metadata": {
    "scrolled": false
   },
   "outputs": [
    {
     "name": "stdout",
     "output_type": "stream",
     "text": [
      "병원명: [<yadmnm>온누리건강약국</yadmnm>]\n",
      "종별코드명: [<sggucdnm>중랑구</sggucdnm>]\n",
      "시도명: [<sidocdnm>서울</sidocdnm>]\n",
      "주소: [<addr>서울특별시 중랑구 봉화산로 215 1층 (신내동)</addr>]\n",
      "전화번호: [<telno>02-3422-3097</telno>]\n",
      "병원명: [<yadmnm>온누리건강약국</yadmnm>]\n",
      "종별코드명: [<sggucdnm>중랑구</sggucdnm>]\n",
      "시도명: [<sidocdnm>서울</sidocdnm>]\n",
      "주소: [<addr>서울특별시 중랑구 봉화산로 215 1층 (신내동)</addr>]\n",
      "전화번호: [<telno>02-3422-3097</telno>]\n",
      "병원명: [<yadmnm>온누리건강약국</yadmnm>]\n",
      "종별코드명: [<sggucdnm>중랑구</sggucdnm>]\n",
      "시도명: [<sidocdnm>서울</sidocdnm>]\n",
      "주소: [<addr>서울특별시 중랑구 봉화산로 215 1층 (신내동)</addr>]\n",
      "전화번호: [<telno>02-3422-3097</telno>]\n",
      "병원명: [<yadmnm>온누리건강약국</yadmnm>]\n",
      "종별코드명: [<sggucdnm>중랑구</sggucdnm>]\n",
      "시도명: [<sidocdnm>서울</sidocdnm>]\n",
      "주소: [<addr>서울특별시 중랑구 봉화산로 215 1층 (신내동)</addr>]\n",
      "전화번호: [<telno>02-3422-3097</telno>]\n",
      "병원명: [<yadmnm>온누리건강약국</yadmnm>]\n",
      "종별코드명: [<sggucdnm>중랑구</sggucdnm>]\n",
      "시도명: [<sidocdnm>서울</sidocdnm>]\n",
      "주소: [<addr>서울특별시 중랑구 봉화산로 215 1층 (신내동)</addr>]\n",
      "전화번호: [<telno>02-3422-3097</telno>]\n"
     ]
    }
   ],
   "source": [
    "#파이썬으로 REST API를 요청\n",
    "\n",
    "import pandas\n",
    "from bs4 import BeautifulSoup\n",
    "import requests\n",
    "from openpyxl.workbook import Workbook\n",
    "\n",
    "apikey='2iBxaKFKnzeyq04AkTe7ZCYjXgKOO6sXWOegK0YOWsgfPk%2FyFKrzqSaEiKFNMSUDX9qffhdPG0ajf0ydWGVzFQ%3D%3D'\n",
    "\n",
    "#약국정보서비스 API\n",
    "api = \"http://apis.data.go.kr/B551182/pharmacyInfoService/getParmacyBasisList?serviceKey=2iBxaKFKnzeyq04AkTe7ZCYjXgKOO6sXWOegK0YOWsgfPk%2FyFKrzqSaEiKFNMSUDX9qffhdPG0ajf0ydWGVzFQ%3D%3D&pageNo=1&numOfRows=10&sidoCd=110000&sgguCd=110019&emdongNm=%EC%8B%A0%EB%82%B4%EB%8F%99&yadmNm=%EC%98%A8%EB%88%84%EB%A6%AC%EA%B1%B4%EA%B0%95&type=json&APPID={key}\"\n",
    "\n",
    "# 약국 정보 리스트 \n",
    "\n",
    "list_drugs =[\"병원명\",\"종별코드명\",\"시도명\",\"주소\",\"전화번호\"]\n",
    "\n",
    "i=0 \n",
    "for list_drug in list_drugs:\n",
    "    url = api.format(list_drugs=list_drug, key=apikey)\n",
    "    req= requests.get(url)\n",
    "    re = req.text\n",
    "    soup = BeautifulSoup(re, 'html.parser')\n",
    "\n",
    "#병원명\n",
    "    yadmnm = soup.find_all('yadmnm')\n",
    "#종별코드명\n",
    "    sggucdnm = soup.find_all('sggucdnm')\n",
    "#시도명\n",
    "    sidocdnm= soup.find_all('sidocdnm')\n",
    "#주소\n",
    "    addr = soup.find_all('addr')\n",
    "#전화번호\n",
    "    telno = soup.find_all('telno')\n",
    "\n",
    "\n",
    "    print (\"병원명:\", yadmnm)\n",
    "    print (\"종별코드명:\", sggucdnm)\n",
    "    print (\"시도명:\", sidocdnm)\n",
    "    print (\"주소:\", addr)\n",
    "    print (\"전화번호:\", telno)\n"
   ]
  },
  {
   "cell_type": "code",
   "execution_count": null,
   "metadata": {},
   "outputs": [],
   "source": []
  }
 ],
 "metadata": {
  "kernelspec": {
   "display_name": "Python 3",
   "language": "python",
   "name": "python3"
  },
  "language_info": {
   "codemirror_mode": {
    "name": "ipython",
    "version": 3
   },
   "file_extension": ".py",
   "mimetype": "text/x-python",
   "name": "python",
   "nbconvert_exporter": "python",
   "pygments_lexer": "ipython3",
   "version": "3.8.5"
  }
 },
 "nbformat": 4,
 "nbformat_minor": 2
}
